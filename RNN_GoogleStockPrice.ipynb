{
 "cells": [
  {
   "cell_type": "code",
   "execution_count": 1,
   "metadata": {
    "id": "uWlUvCwAminT"
   },
   "outputs": [],
   "source": [
    "# importing libs\n",
    "\n",
    "import numpy as np\n",
    "import pandas as pd\n",
    "import matplotlib.pyplot as plt\n",
    "from sklearn.preprocessing import MinMaxScaler"
   ]
  },
  {
   "cell_type": "code",
   "execution_count": 2,
   "metadata": {
    "id": "ffP0E3W3nbat"
   },
   "outputs": [],
   "source": [
    "# read dataset of train\n",
    "\n",
    "dataset = pd.read_csv('Google_Stock_Price_Train.csv')\n",
    "dataset_train = dataset.iloc[:,1:2].values"
   ]
  },
  {
   "cell_type": "code",
   "execution_count": 3,
   "metadata": {
    "id": "jfS4gYAsp9xM"
   },
   "outputs": [],
   "source": [
    "# scale data between 0 and 1\n",
    "\n",
    "scaler = MinMaxScaler()\n",
    "X_train_scaled = scaler.fit_transform(dataset_train)"
   ]
  },
  {
   "cell_type": "code",
   "execution_count": 4,
   "metadata": {
    "id": "NEdEa8h56exm"
   },
   "outputs": [],
   "source": [
    "# read dataset test and seperate 'open' column\n",
    "\n",
    "dataset_t = pd.read_csv('Google_Stock_Price_Test.csv')\n",
    "dataset_test = dataset_t.iloc[:,1:2].values\n",
    "dataset_test = scaler.transform(dataset_test)\n",
    "\n",
    "# split day from Date column\n",
    "\n",
    "X_day = dataset_t['Date'].str.split('/', expand=True)"
   ]
  },
  {
   "cell_type": "code",
   "execution_count": 5,
   "metadata": {
    "id": "32UnUOWn70Dx"
   },
   "outputs": [],
   "source": [
    "# Prepare dataset test, we need one window, which choose 60 in this problem, \n",
    "# from the lastest data of train dataset to predict in test data set\n",
    "\n",
    "X_test = []\n",
    "for i in range(60):\n",
    "  X_test.append(X_train_scaled[1198+i])\n",
    "\n",
    "for i in range(20):\n",
    "  X_test.append(dataset_test[i])\n",
    "\n",
    "X_test = np.array(X_test)"
   ]
  },
  {
   "cell_type": "code",
   "execution_count": 6,
   "metadata": {
    "id": "ohbqtwNA7Tw_"
   },
   "outputs": [],
   "source": [
    "# Build test dataset\n",
    "\n",
    "X_test_model = []\n",
    "Y_test_model = []\n",
    "for i in range(60,80):\n",
    "  X_test_model.append(X_test[i-60:i,0])\n",
    "  Y_test_model.append(X_test[i])\n"
   ]
  },
  {
   "cell_type": "code",
   "execution_count": 7,
   "metadata": {
    "colab": {
     "base_uri": "https://localhost:8080/"
    },
    "id": "0VIojpRE9tdq",
    "outputId": "a90732ff-4ba5-47a2-8071-1c7bf05ff3dd"
   },
   "outputs": [
    {
     "data": {
      "text/plain": [
       "((20, 60), (20, 1))"
      ]
     },
     "execution_count": 7,
     "metadata": {},
     "output_type": "execute_result"
    }
   ],
   "source": [
    "# Reforming to NP arrays\n",
    "\n",
    "X_test_model = np.array(X_test_model)\n",
    "Y_test_model = np.array(Y_test_model)\n",
    "\n",
    "X_test_model.shape ,Y_test_model.shape"
   ]
  },
  {
   "cell_type": "code",
   "execution_count": 8,
   "metadata": {
    "colab": {
     "base_uri": "https://localhost:8080/"
    },
    "id": "nzhYfXLk-s3S",
    "outputId": "08c66900-c6ea-42eb-8197-0be1b467ad45"
   },
   "outputs": [
    {
     "data": {
      "text/plain": [
       "(20, 60, 1)"
      ]
     },
     "execution_count": 8,
     "metadata": {},
     "output_type": "execute_result"
    }
   ],
   "source": [
    "# x test should be reshape\n",
    "\n",
    "X_test_model = np.reshape(X_test_model,(X_test_model.shape[0],X_test_model.shape[1],1))\n",
    "X_test_model.shape"
   ]
  },
  {
   "cell_type": "code",
   "execution_count": 9,
   "metadata": {
    "id": "4ayDjST6qphH"
   },
   "outputs": [],
   "source": [
    "# Build train dataset\n",
    "\n",
    "X_train = []\n",
    "Y_train = []\n",
    "for i in range(60,1258):\n",
    "  X_train.append(X_train_scaled[i-60:i,0])\n",
    "  Y_train.append(X_train_scaled[i,0])"
   ]
  },
  {
   "cell_type": "code",
   "execution_count": 10,
   "metadata": {
    "colab": {
     "base_uri": "https://localhost:8080/"
    },
    "id": "fOkCi2blsUEE",
    "outputId": "eff870f4-93be-430b-8661-af59738295be"
   },
   "outputs": [
    {
     "data": {
      "text/plain": [
       "(1198, 60)"
      ]
     },
     "execution_count": 10,
     "metadata": {},
     "output_type": "execute_result"
    }
   ],
   "source": [
    "# Reforming to NP arrays\n",
    "\n",
    "X_train,Y_train = np.array(X_train),np.array(Y_train)\n",
    "X_train.shape"
   ]
  },
  {
   "cell_type": "code",
   "execution_count": 11,
   "metadata": {
    "colab": {
     "base_uri": "https://localhost:8080/"
    },
    "id": "RRWt6kUEBNSo",
    "outputId": "96ef36ac-329c-44fc-d898-2d3a7c4c20ad"
   },
   "outputs": [
    {
     "data": {
      "text/plain": [
       "(1198, 60, 1)"
      ]
     },
     "execution_count": 11,
     "metadata": {},
     "output_type": "execute_result"
    }
   ],
   "source": [
    "# Reshape X train\n",
    "\n",
    "X_train = np.reshape(X_train,(X_train.shape[0],X_train.shape[1],1))\n",
    "X_train.shape"
   ]
  },
  {
   "cell_type": "code",
   "execution_count": 12,
   "metadata": {
    "id": "cRLU6nfnsVQl"
   },
   "outputs": [],
   "source": [
    "# import libs\n",
    "\n",
    "import tensorflow\n",
    "from tensorflow.keras import Sequential\n",
    "from tensorflow.keras.layers import Dense\n",
    "from tensorflow.keras.layers import LSTM\n",
    "from tensorflow.keras.layers import Dropout"
   ]
  },
  {
   "cell_type": "code",
   "execution_count": 13,
   "metadata": {
    "id": "l0rG83WgszO0"
   },
   "outputs": [],
   "source": [
    "# Preparing sequential model\n",
    "\n",
    "model = Sequential()"
   ]
  },
  {
   "cell_type": "code",
   "execution_count": 14,
   "metadata": {
    "colab": {
     "base_uri": "https://localhost:8080/"
    },
    "id": "U4mjls15wk3E",
    "outputId": "808e392e-a502-4ee4-d5d6-9f4a969d7f02"
   },
   "outputs": [
    {
     "name": "stdout",
     "output_type": "stream",
     "text": [
      "Model: \"sequential\"\n",
      "_________________________________________________________________\n",
      " Layer (type)                Output Shape              Param #   \n",
      "=================================================================\n",
      " lstm (LSTM)                 (None, 60, 50)            10400     \n",
      "                                                                 \n",
      " dropout (Dropout)           (None, 60, 50)            0         \n",
      "                                                                 \n",
      " lstm_1 (LSTM)               (None, 60, 100)           60400     \n",
      "                                                                 \n",
      " dropout_1 (Dropout)         (None, 60, 100)           0         \n",
      "                                                                 \n",
      " lstm_2 (LSTM)               (None, 60, 70)            47880     \n",
      "                                                                 \n",
      " dropout_2 (Dropout)         (None, 60, 70)            0         \n",
      "                                                                 \n",
      " lstm_3 (LSTM)               (None, 50)                24200     \n",
      "                                                                 \n",
      " dropout_3 (Dropout)         (None, 50)                0         \n",
      "                                                                 \n",
      " dense (Dense)               (None, 1)                 51        \n",
      "                                                                 \n",
      "=================================================================\n",
      "Total params: 142,931\n",
      "Trainable params: 142,931\n",
      "Non-trainable params: 0\n",
      "_________________________________________________________________\n"
     ]
    }
   ],
   "source": [
    "# First layer LSTM \n",
    "model.add(LSTM(units=50, return_sequences=True, input_shape=(X_train.shape[1],1)))\n",
    "model.add(Dropout(0.20))\n",
    "\n",
    "# Second layer LSTM\n",
    "model.add(LSTM(units=100, return_sequences=True ))\n",
    "model.add(Dropout(0.20))\n",
    "\n",
    "# Third layer LSTM \n",
    "model.add(LSTM(units=70, return_sequences=True ))\n",
    "model.add(Dropout(0.20))\n",
    "\n",
    "# Forth layer LSTM \n",
    "model.add(LSTM(units=50, return_sequences=False))\n",
    "model.add(Dropout(0.20))\n",
    "\n",
    "# Dense output layer \n",
    "model.add(Dense(units=1))\n",
    "\n",
    "model.summary()"
   ]
  },
  {
   "cell_type": "code",
   "execution_count": 15,
   "metadata": {
    "colab": {
     "base_uri": "https://localhost:8080/"
    },
    "id": "F3BzNVX4CJ3W",
    "outputId": "a50b6734-7120-49a1-ce0d-cb49d191ebfb"
   },
   "outputs": [
    {
     "name": "stdout",
     "output_type": "stream",
     "text": [
      "Epoch 1/50\n",
      "36/36 [==============================] - 12s 117ms/step - loss: 0.0337 - val_loss: 0.0123\n",
      "Epoch 2/50\n",
      "36/36 [==============================] - 2s 69ms/step - loss: 0.0067 - val_loss: 0.0030\n",
      "Epoch 3/50\n",
      "36/36 [==============================] - 2s 69ms/step - loss: 0.0047 - val_loss: 0.0062\n",
      "Epoch 4/50\n",
      "36/36 [==============================] - 3s 70ms/step - loss: 0.0049 - val_loss: 0.0022\n",
      "Epoch 5/50\n",
      "36/36 [==============================] - 3s 70ms/step - loss: 0.0045 - val_loss: 0.0013\n",
      "Epoch 6/50\n",
      "36/36 [==============================] - 2s 69ms/step - loss: 0.0051 - val_loss: 0.0014\n",
      "Epoch 7/50\n",
      "36/36 [==============================] - 2s 69ms/step - loss: 0.0042 - val_loss: 0.0013\n",
      "Epoch 8/50\n",
      "36/36 [==============================] - 2s 69ms/step - loss: 0.0048 - val_loss: 0.0014\n",
      "Epoch 9/50\n",
      "36/36 [==============================] - 2s 69ms/step - loss: 0.0040 - val_loss: 0.0014\n",
      "Epoch 10/50\n",
      "36/36 [==============================] - 2s 69ms/step - loss: 0.0043 - val_loss: 0.0012\n",
      "Epoch 11/50\n",
      "36/36 [==============================] - 2s 69ms/step - loss: 0.0042 - val_loss: 0.0044\n",
      "Epoch 12/50\n",
      "36/36 [==============================] - 3s 70ms/step - loss: 0.0034 - val_loss: 0.0014\n",
      "Epoch 13/50\n",
      "36/36 [==============================] - 3s 70ms/step - loss: 0.0034 - val_loss: 0.0024\n",
      "Epoch 14/50\n",
      "36/36 [==============================] - 2s 69ms/step - loss: 0.0031 - val_loss: 0.0030\n",
      "Epoch 15/50\n",
      "36/36 [==============================] - 2s 69ms/step - loss: 0.0038 - val_loss: 0.0071\n",
      "Epoch 16/50\n",
      "36/36 [==============================] - 2s 69ms/step - loss: 0.0036 - val_loss: 0.0019\n",
      "Epoch 17/50\n",
      "36/36 [==============================] - 2s 69ms/step - loss: 0.0031 - val_loss: 0.0029\n",
      "Epoch 18/50\n",
      "36/36 [==============================] - 2s 69ms/step - loss: 0.0037 - val_loss: 0.0038\n",
      "Epoch 19/50\n",
      "36/36 [==============================] - 2s 70ms/step - loss: 0.0029 - val_loss: 0.0010\n",
      "Epoch 20/50\n",
      "36/36 [==============================] - 2s 69ms/step - loss: 0.0034 - val_loss: 0.0012\n",
      "Epoch 21/50\n",
      "36/36 [==============================] - 3s 70ms/step - loss: 0.0031 - val_loss: 0.0010\n",
      "Epoch 22/50\n",
      "36/36 [==============================] - 2s 69ms/step - loss: 0.0027 - val_loss: 0.0011\n",
      "Epoch 23/50\n",
      "36/36 [==============================] - 2s 69ms/step - loss: 0.0029 - val_loss: 0.0020\n",
      "Epoch 24/50\n",
      "36/36 [==============================] - 3s 70ms/step - loss: 0.0031 - val_loss: 0.0025\n",
      "Epoch 25/50\n",
      "36/36 [==============================] - 2s 69ms/step - loss: 0.0033 - val_loss: 0.0015\n",
      "Epoch 26/50\n",
      "36/36 [==============================] - 2s 69ms/step - loss: 0.0028 - val_loss: 9.5221e-04\n",
      "Epoch 27/50\n",
      "36/36 [==============================] - 2s 69ms/step - loss: 0.0027 - val_loss: 0.0016\n",
      "Epoch 28/50\n",
      "36/36 [==============================] - 2s 69ms/step - loss: 0.0031 - val_loss: 9.3935e-04\n",
      "Epoch 29/50\n",
      "36/36 [==============================] - 2s 69ms/step - loss: 0.0027 - val_loss: 9.1677e-04\n",
      "Epoch 30/50\n",
      "36/36 [==============================] - 3s 70ms/step - loss: 0.0026 - val_loss: 0.0011\n",
      "Epoch 31/50\n",
      "36/36 [==============================] - 2s 69ms/step - loss: 0.0031 - val_loss: 0.0014\n",
      "Epoch 32/50\n",
      "36/36 [==============================] - 3s 70ms/step - loss: 0.0025 - val_loss: 9.4549e-04\n",
      "Epoch 33/50\n",
      "36/36 [==============================] - 2s 69ms/step - loss: 0.0028 - val_loss: 0.0033\n",
      "Epoch 34/50\n",
      "36/36 [==============================] - 2s 69ms/step - loss: 0.0028 - val_loss: 0.0015\n",
      "Epoch 35/50\n",
      "36/36 [==============================] - 3s 70ms/step - loss: 0.0028 - val_loss: 0.0024\n",
      "Epoch 36/50\n",
      "36/36 [==============================] - 3s 70ms/step - loss: 0.0026 - val_loss: 0.0024\n",
      "Epoch 37/50\n",
      "36/36 [==============================] - 3s 70ms/step - loss: 0.0025 - val_loss: 0.0019\n",
      "Epoch 38/50\n",
      "36/36 [==============================] - 2s 69ms/step - loss: 0.0025 - val_loss: 0.0012\n",
      "Epoch 39/50\n",
      "36/36 [==============================] - 2s 69ms/step - loss: 0.0023 - val_loss: 0.0012\n",
      "Epoch 40/50\n",
      "36/36 [==============================] - 3s 70ms/step - loss: 0.0024 - val_loss: 0.0034\n",
      "Epoch 41/50\n",
      "36/36 [==============================] - 2s 69ms/step - loss: 0.0026 - val_loss: 0.0021\n",
      "Epoch 42/50\n",
      "36/36 [==============================] - 3s 70ms/step - loss: 0.0024 - val_loss: 9.4042e-04\n",
      "Epoch 43/50\n",
      "36/36 [==============================] - 2s 68ms/step - loss: 0.0021 - val_loss: 9.8167e-04\n",
      "Epoch 44/50\n",
      "36/36 [==============================] - 2s 69ms/step - loss: 0.0022 - val_loss: 0.0014\n",
      "Epoch 45/50\n",
      "36/36 [==============================] - 2s 69ms/step - loss: 0.0022 - val_loss: 7.6527e-04\n",
      "Epoch 46/50\n",
      "36/36 [==============================] - 2s 69ms/step - loss: 0.0023 - val_loss: 9.1839e-04\n",
      "Epoch 47/50\n",
      "36/36 [==============================] - 2s 70ms/step - loss: 0.0022 - val_loss: 0.0039\n",
      "Epoch 48/50\n",
      "36/36 [==============================] - 2s 70ms/step - loss: 0.0024 - val_loss: 0.0017\n",
      "Epoch 49/50\n",
      "36/36 [==============================] - 3s 70ms/step - loss: 0.0024 - val_loss: 7.3265e-04\n",
      "Epoch 50/50\n",
      "36/36 [==============================] - 3s 70ms/step - loss: 0.0022 - val_loss: 0.0025\n"
     ]
    },
    {
     "data": {
      "text/plain": [
       "<keras.callbacks.History at 0x7ff3fa0b6c50>"
      ]
     },
     "execution_count": 15,
     "metadata": {},
     "output_type": "execute_result"
    }
   ],
   "source": [
    "# Compile the model\n",
    "model.compile(optimizer='adam',loss='mean_squared_error')\n",
    "\n",
    "# Fit the model\n",
    "model.fit(X_train,Y_train,epochs=50,batch_size=32,validation_split=0.05)"
   ]
  },
  {
   "cell_type": "code",
   "execution_count": 16,
   "metadata": {
    "id": "1slWa-1u3ZFO"
   },
   "outputs": [],
   "source": [
    "# Predict the x test data\n",
    "\n",
    "y_predict = model.predict(X_test_model)"
   ]
  },
  {
   "cell_type": "code",
   "execution_count": 19,
   "metadata": {
    "colab": {
     "base_uri": "https://localhost:8080/",
     "height": 312
    },
    "id": "MajAxfJvAGhz",
    "outputId": "83f07624-2677-4147-ba8c-f6729b53e7bd"
   },
   "outputs": [
    {
     "data": {
      "text/plain": [
       "<matplotlib.legend.Legend at 0x7ff3f996de10>"
      ]
     },
     "execution_count": 19,
     "metadata": {},
     "output_type": "execute_result"
    },
    {
     "data": {
      "image/png": "[encoded data removed]",
      "text/plain": [
       "<Figure size 648x288 with 1 Axes>"
      ]
     },
     "metadata": {
      "needs_background": "light"
     },
     "output_type": "display_data"
    }
   ],
   "source": [
    "# Show the difference between predicted values and true ones\n",
    "\n",
    "plt.figure(figsize=(9, 4))\n",
    "plt.plot(X_day[1], Y_test_model, label='Real Google stock price')\n",
    "plt.plot(X_day[1], y_predict, label='Predicted Google stock price')\n",
    "  \n",
    "plt.xlabel('Day of getting price in January 2017')\n",
    "plt.ylabel('Show predicted and true values of y')\n",
    "plt.title(\"Show the difference\")\n",
    "\n",
    "plt.legend()"
   ]
  },
  {
   "cell_type": "code",
   "execution_count": 17,
   "metadata": {
    "id": "Xt9S2n8FgsKp"
   },
   "outputs": [],
   "source": []
  }
 ],
 "metadata": {
  "accelerator": "GPU",
  "colab": {
   "collapsed_sections": [],
   "name": "RNN_GoogleStockPrice.ipynb",
   "provenance": []
  },
  "kernelspec": {
   "display_name": "Python 3",
   "language": "python",
   "name": "python3"
  },
  "language_info": {
   "codemirror_mode": {
    "name": "ipython",
    "version": 3
   },
   "file_extension": ".py",
   "mimetype": "text/x-python",
   "name": "python",
   "nbconvert_exporter": "python",
   "pygments_lexer": "ipython3",
   "version": "3.8.1"
  }
 },
 "nbformat": 4,
 "nbformat_minor": 1
}
